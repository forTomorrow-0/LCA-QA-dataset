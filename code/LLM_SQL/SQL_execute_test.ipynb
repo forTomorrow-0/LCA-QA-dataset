{
 "cells": [
  {
   "cell_type": "code",
   "execution_count": 1,
   "metadata": {
    "ExecuteTime": {
     "end_time": "2025-02-08T07:07:00.792665500Z",
     "start_time": "2025-02-08T07:07:00.720729600Z"
    }
   },
   "outputs": [],
   "source": [
    "import psycopg2"
   ]
  },
  {
   "cell_type": "code",
   "execution_count": 2,
   "metadata": {
    "ExecuteTime": {
     "end_time": "2025-02-08T07:07:01.757635700Z",
     "start_time": "2025-02-08T07:07:01.696905500Z"
    }
   },
   "outputs": [],
   "source": [
    "# 数据库连接参数\n",
    "dbname = \"\"\n",
    "user = \"\"\n",
    "password = \"\"\n",
    "host = \"\"  # 或者是你 Docker 容器的 IP 地址，如果你在不同的机器上\n",
    "port = \"\"\n",
    "\n",
    "# 连接字符串\n",
    "conn_string = f\"host={host} dbname={dbname} user={user} password={password} port={port}\"\n",
    "# 连接到数据库\n",
    "conn = psycopg2.connect(conn_string)\n",
    "cur = conn.cursor()"
   ]
  },
  {
   "cell_type": "code",
   "execution_count": 3,
   "outputs": [],
   "source": [
    "from psycopg2 import Error as Psycopg2Error\n",
    "\n",
    "def execute_query(query):\n",
    "    # 数据库连接参数\n",
    "    dbname = \"\"\n",
    "    user = \"\"\n",
    "    password = \"\"\n",
    "    host = \"\"  # 或者是你 Docker 容器的 IP 地址，如果你在不同的机器上\n",
    "    port = \"\"\n",
    "    \n",
    "    # 连接字符串\n",
    "    conn_string = f\"host={host} dbname={dbname} user={user} password={password} port={port}\"\n",
    "    # 连接到数据库\n",
    "    conn = psycopg2.connect(conn_string)\n",
    "    cur = conn.cursor()\n",
    "    try:\n",
    "        # 使用传入的 cursor 执行 SQL 查询\n",
    "        cur.execute(query)\n",
    "        # 获取查询结果\n",
    "        results = cur.fetchall()\n",
    "        return results\n",
    "    except Psycopg2Error as e:\n",
    "        # 这里可以打印异常信息，方便调试\n",
    "        print(e)\n",
    "        return \"error\"\n",
    "    finally:\n",
    "        # 关闭 cursor 和连接\n",
    "        cur.close()\n",
    "        conn.close()\n"
   ],
   "metadata": {
    "collapsed": false,
    "ExecuteTime": {
     "end_time": "2025-02-08T07:07:02.264527900Z",
     "start_time": "2025-02-08T07:07:02.235273700Z"
    }
   }
  },
  {
   "cell_type": "code",
   "execution_count": 4,
   "outputs": [
    {
     "name": "stdout",
     "output_type": "stream",
     "text": [
      "[(21238,)]\n"
     ]
    }
   ],
   "source": [
    "res = execute_query(\"SELECT COUNT(*) FROM tb_process WHERE create_time BETWEEN '2023-06-01' AND '2023-06-15';\")\n",
    "print(res)"
   ],
   "metadata": {
    "collapsed": false,
    "ExecuteTime": {
     "end_time": "2025-02-08T07:07:03.836151100Z",
     "start_time": "2025-02-08T07:07:03.701018400Z"
    }
   }
  },
  {
   "cell_type": "code",
   "execution_count": 6,
   "metadata": {
    "ExecuteTime": {
     "end_time": "2025-02-08T07:08:51.653064900Z",
     "start_time": "2025-02-08T07:08:39.283857Z"
    }
   },
   "outputs": [
    {
     "name": "stdout",
     "output_type": "stream",
     "text": [
      "no results to fetch\n",
      "no results to fetch\n",
      "column \"creator\" does not exist\n",
      "LINE 1: ...CT COUNT(*) AS total FROM tb_product_system WHERE creator = ...\n",
      "                                                             ^\n",
      "\n",
      "序号： 21\n",
      "select count(*) as total from tb_product_system p where create_user = '10043' and deleted = 0\n",
      "SELECT COUNT(*) AS total FROM tb_product_system WHERE creator = '10043' AND deleted = '0'\n",
      "序号： 33\n",
      "SELECT * FROM tb_process_doc WHERE valid_from > '2022-01-01';\n",
      "SELECT * FROM tb_process_doc WHERE valid_from > '2020-01-01'\n",
      "序号： 62\n",
      "SELECT * FROM tb_process WHERE create_time BETWEEN '2023-06-01' AND '2023-06-15';\n",
      "SELECT * FROM tb_process WHERE create_time >= '2022-01-01' AND create_time <= '2023-01-01'\n",
      "error gold: 1\n",
      "error pred: 2\n",
      "correct: 62\n"
     ]
    }
   ],
   "source": [
    "gold = []\n",
    "pred = []\n",
    "err_gold = 0\n",
    "err_pred = 0\n",
    "\n",
    "err_flag_gold = [] # 1是error，0不是\n",
    "err_flag_pred = []\n",
    "\n",
    "with open(\"./gold.txt\",\"r\",encoding=\"utf-8\") as f:\n",
    "    for line in f.readlines():\n",
    "        gold.append(line.strip())\n",
    "with open(\"./pred.txt\",\"r\",encoding=\"utf-8\") as f:\n",
    "    for line in f.readlines():\n",
    "        pred.append(line.strip())\n",
    "\n",
    "equal = 0\n",
    "for idx,(g,p) in enumerate(zip(gold,pred)):\n",
    "    # print(\"序号：\",idx)\n",
    "    # print(\"##真实sql:##\",)\n",
    "    res_g = execute_query(g)\n",
    "         \n",
    "    # print(\"##预测sql:##\")\n",
    "    res_p = execute_query(p)\n",
    "    \n",
    "    if res_g != res_p:\n",
    "        print(\"序号：\",idx)\n",
    "        print(g)\n",
    "        print(p)\n",
    "    if res_g == 'error':\n",
    "        err_flag_gold.append(1)\n",
    "    else:\n",
    "        err_flag_gold.append(0)\n",
    "\n",
    "    if res_p == 'error':\n",
    "        err_flag_pred.append(1)\n",
    "    else:\n",
    "        err_flag_pred.append(0)\n",
    "\n",
    "\n",
    "    if res_g!='error':\n",
    "        equal += (res_g == res_p)\n",
    "    if res_g == 'error':\n",
    "        err_gold += 1\n",
    "    if res_p == 'error':\n",
    "        err_pred += 1\n",
    "\n",
    "print(\"error gold:\",err_gold)\n",
    "print(\"error pred:\",err_pred)\n",
    "print(\"correct:\",equal)"
   ]
  },
  {
   "cell_type": "code",
   "execution_count": 7,
   "metadata": {
    "ExecuteTime": {
     "end_time": "2025-02-08T07:09:14.911890500Z",
     "start_time": "2025-02-08T07:09:14.875045500Z"
    }
   },
   "outputs": [
    {
     "data": {
      "text/plain": "0.9538461538461539"
     },
     "execution_count": 7,
     "metadata": {},
     "output_type": "execute_result"
    }
   ],
   "source": [
    "equal/(len(gold)-err_gold)"
   ]
  },
  {
   "cell_type": "code",
   "execution_count": 6,
   "metadata": {
    "ExecuteTime": {
     "end_time": "2024-11-15T09:10:07.159663400Z",
     "start_time": "2024-11-15T09:10:07.109065Z"
    }
   },
   "outputs": [
    {
     "data": {
      "text/plain": "66"
     },
     "execution_count": 6,
     "metadata": {},
     "output_type": "execute_result"
    }
   ],
   "source": [
    "len(gold)"
   ]
  },
  {
   "cell_type": "code",
   "execution_count": 19,
   "metadata": {
    "ExecuteTime": {
     "end_time": "2024-11-13T02:13:49.150865800Z",
     "start_time": "2024-11-13T02:13:48.881586700Z"
    }
   },
   "outputs": [
    {
     "data": {
      "text/plain": "89"
     },
     "execution_count": 19,
     "metadata": {},
     "output_type": "execute_result"
    }
   ],
   "source": [
    "len(pred)"
   ]
  },
  {
   "cell_type": "code",
   "execution_count": 20,
   "metadata": {
    "ExecuteTime": {
     "end_time": "2024-11-13T02:13:51.014758700Z",
     "start_time": "2024-11-13T02:13:50.950048100Z"
    }
   },
   "outputs": [
    {
     "name": "stdout",
     "output_type": "stream",
     "text": [
      "42\n",
      "47\n"
     ]
    }
   ],
   "source": [
    "print(sum(err_flag_gold))\n",
    "print(sum(err_flag_pred))"
   ]
  },
  {
   "cell_type": "code",
   "execution_count": 15,
   "metadata": {
    "ExecuteTime": {
     "end_time": "2024-11-14T06:56:50.376779400Z",
     "start_time": "2024-11-14T06:56:50.307716Z"
    }
   },
   "outputs": [
    {
     "name": "stdout",
     "output_type": "stream",
     "text": [
      "column \"valid_time\" does not exist\n",
      "LINE 1: ...ise_auth_id,status,remark,open_id,last_login_time,valid_time...\n",
      "                                                             ^\n"
     ]
    }
   ],
   "source": [
    "s = \"select id,username,password,real_name,nickname,id_number,avatar,gender,email,mobile,user_type,org_id,super_admin,person_auth_id,enterprise_auth_id,status,remark,open_id,last_login_time,valid_time,creator,create_time,updater,update_time,version,deleted from sys_user where deleted=0\"\n",
    "res = execute_query(s)"
   ]
  },
  {
   "cell_type": "code",
   "execution_count": null,
   "outputs": [],
   "source": [],
   "metadata": {
    "collapsed": false
   }
  },
  {
   "cell_type": "code",
   "execution_count": null,
   "outputs": [],
   "source": [],
   "metadata": {
    "collapsed": false
   }
  }
 ],
 "metadata": {
  "kernelspec": {
   "display_name": "Qwen",
   "language": "python",
   "name": "python3"
  },
  "language_info": {
   "codemirror_mode": {
    "name": "ipython",
    "version": 3
   },
   "file_extension": ".py",
   "mimetype": "text/x-python",
   "name": "python",
   "nbconvert_exporter": "python",
   "pygments_lexer": "ipython3",
   "version": "3.10.14"
  }
 },
 "nbformat": 4,
 "nbformat_minor": 2
}
