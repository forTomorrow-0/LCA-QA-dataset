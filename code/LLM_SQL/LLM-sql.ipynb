{
 "cells": [
  {
   "cell_type": "code",
   "execution_count": 1,
   "metadata": {
    "ExecuteTime": {
     "end_time": "2025-02-08T01:05:10.997744300Z",
     "start_time": "2025-02-08T01:05:08.121750300Z"
    }
   },
   "outputs": [],
   "source": [
    "import os\n",
    "# from langchain_community.llms import QianfanLLMEndpoint,Tongyi\n",
    "# from langchain_community.chat_models import ChatZhipuAI\n",
    "from langchain_openai import ChatOpenAI\n",
    "from langchain.chains import LLMChain\n",
    "from langchain.prompts import PromptTemplate\n",
    "import psycopg2\n",
    "import re"
   ]
  },
  {
   "cell_type": "code",
   "execution_count": 2,
   "metadata": {
    "ExecuteTime": {
     "end_time": "2025-02-08T01:05:51.250114800Z",
     "start_time": "2025-02-08T01:05:51.180599200Z"
    }
   },
   "outputs": [],
   "source": [
    "# 百度千帆\n",
    "# api = \"xxxxxxxxx\"\n",
    "# sk = \"xxxxxx\"\n",
    "# \n",
    "# llm = QianfanLLMEndpoint(model=\"ERNIE-4.0-8K\",qianfan_ak=api,qianfan_sk=sk)"
   ]
  },
  {
   "cell_type": "code",
   "execution_count": 3,
   "outputs": [],
   "source": [
    "# 千问\n",
    "# os.environ['DASHSCOPE_API_KEY'] = 'sk-cxxxxxx'\n",
    "# \n",
    "# llm = Tongyi(model_name=\"qwen-max\")"
   ],
   "metadata": {
    "collapsed": false,
    "ExecuteTime": {
     "end_time": "2025-02-08T01:05:51.862250100Z",
     "start_time": "2025-02-08T01:05:51.829224200Z"
    }
   }
  },
  {
   "cell_type": "code",
   "execution_count": 4,
   "outputs": [],
   "source": [
    "# 智谱\n",
    "# api_key = \"xxxxxx\"\n",
    "\n",
    "# os.environ[\"ZHIPUAI_API_KEY\"] = \"xxxxxxx\"\n",
    "# llm = ChatZhipuAI(\n",
    "#     model=\"glm-4\",\n",
    "#     temperature=0.5,\n",
    "# )"
   ],
   "metadata": {
    "collapsed": false,
    "ExecuteTime": {
     "end_time": "2025-02-08T01:05:52.348189900Z",
     "start_time": "2025-02-08T01:05:52.306283100Z"
    }
   }
  },
  {
   "cell_type": "code",
   "execution_count": 5,
   "outputs": [],
   "source": [
    "# deepseek\n",
    "llm = ChatOpenAI(\n",
    "    model = 'deepseek-chat',\n",
    "    openai_api_key='sk-cxxxxxxx5', \n",
    "    openai_api_base='https://api.deepseek.com/v1'\n",
    ")"
   ],
   "metadata": {
    "collapsed": false,
    "ExecuteTime": {
     "end_time": "2025-02-08T01:05:53.873891Z",
     "start_time": "2025-02-08T01:05:53.361956300Z"
    }
   }
  },
  {
   "cell_type": "code",
   "execution_count": 6,
   "metadata": {
    "ExecuteTime": {
     "end_time": "2025-02-08T01:06:14.275322800Z",
     "start_time": "2025-02-08T01:05:56.121093900Z"
    }
   },
   "outputs": [
    {
     "name": "stdout",
     "output_type": "stream",
     "text": [
      "生命的意义在于追求成长、体验爱与奉献，创造价值，超越自我，与他人和世界建立深刻连接，实现内心的平静与满足。\n"
     ]
    }
   ],
   "source": [
    "input_text = \"用50个字左右阐述，生命的意义在于\"\n",
    "response = llm.invoke(input_text)\n",
    "print(response.content)"
   ]
  },
  {
   "cell_type": "code",
   "execution_count": 7,
   "metadata": {
    "ExecuteTime": {
     "end_time": "2025-02-08T01:12:12.002045300Z",
     "start_time": "2025-02-08T01:12:11.868934200Z"
    }
   },
   "outputs": [],
   "source": [
    "# 数据库连接参数\n",
    "dbname = \"xxxx\"\n",
    "user = \"xxxx\"\n",
    "password = \"xxxx\"\n",
    "host = \"xxxx\"  # 或者是你 Docker 容器的 IP 地址，如果你在不同的机器上\n",
    "port = \"xxxx\"\n",
    "\n",
    "# 连接字符串\n",
    "conn_string = f\"host={host} dbname={dbname} user={user} password={password} port={port}\"\n",
    "# 连接到数据库\n",
    "conn = psycopg2.connect(conn_string)\n",
    "cur = conn.cursor()"
   ]
  },
  {
   "cell_type": "code",
   "execution_count": 8,
   "outputs": [],
   "source": [
    "# 获取表名\n",
    "def get_table_name(cur):\n",
    "    # 执行 SQL 查询以获取所有表的列表\n",
    "    cur.execute(\"\"\"\n",
    "        SELECT table_name \n",
    "        FROM information_schema.tables \n",
    "        WHERE table_schema = 'public';\n",
    "    \"\"\")\n",
    "    \n",
    "    # 获取查询结果\n",
    "    tables = cur.fetchall()\n",
    "    tname = []\n",
    "    # 打印表名\n",
    "    for table in tables:\n",
    "        tname.append(table[0])\n",
    "    \n",
    "    return tname"
   ],
   "metadata": {
    "collapsed": false,
    "ExecuteTime": {
     "end_time": "2025-02-08T01:14:43.211241900Z",
     "start_time": "2025-02-08T01:14:43.177051Z"
    }
   }
  },
  {
   "cell_type": "code",
   "execution_count": 9,
   "metadata": {
    "ExecuteTime": {
     "end_time": "2025-02-08T01:14:43.884232500Z",
     "start_time": "2025-02-08T01:14:43.846824900Z"
    }
   },
   "outputs": [],
   "source": [
    "# 获取数据库列名。\n",
    "def get_table_columns(cur,table_name):\n",
    "    try:\n",
    "        # 执行 SQL 查询以获取表的列名\n",
    "        cur.execute(f\"\"\"\n",
    "            SELECT column_name \n",
    "            FROM information_schema.columns \n",
    "            WHERE table_name = '{table_name}';\n",
    "        \"\"\")\n",
    "        # 获取查询结果\n",
    "        cols = [desc[0] for desc in cur.fetchall()]\n",
    "        columns = []\n",
    "        for col in cols:\n",
    "            # column = \"'\"+col+\"'\"\n",
    "            columns.append(col)\n",
    "    except Exception as e:\n",
    "        print(f\"An error occurred: {e}\")\n",
    "    return columns"
   ]
  },
  {
   "cell_type": "code",
   "execution_count": 10,
   "outputs": [],
   "source": [
    "# 获取数据库表结构，表名对应列名\n",
    "schema = dict()\n",
    "\n",
    "table_names = get_table_name(cur)\n",
    "for name in table_names:\n",
    "    schema[name] = get_table_columns(cur,name)"
   ],
   "metadata": {
    "collapsed": false,
    "ExecuteTime": {
     "end_time": "2025-02-08T01:14:45.440416700Z",
     "start_time": "2025-02-08T01:14:44.908430800Z"
    }
   }
  },
  {
   "cell_type": "code",
   "execution_count": 11,
   "outputs": [],
   "source": [
    "def get_column_types(cur, table_name):\n",
    "    # 执行 SQL 查询以获取表的列名和数据类型\n",
    "    cur.execute(\"\"\"\n",
    "        SELECT column_name, data_type\n",
    "        FROM information_schema.columns\n",
    "        WHERE table_name = %s;\n",
    "    \"\"\", (table_name,))\n",
    "\n",
    "    # 获取查询结果\n",
    "    results = cur.fetchall()\n",
    "    return results"
   ],
   "metadata": {
    "collapsed": false,
    "ExecuteTime": {
     "end_time": "2025-02-08T01:14:47.376080900Z",
     "start_time": "2025-02-08T01:14:47.325225400Z"
    }
   }
  },
  {
   "cell_type": "code",
   "execution_count": 12,
   "outputs": [
    {
     "name": "stdout",
     "output_type": "stream",
     "text": [
      "[('share', 'integer'), ('deleted', 'smallint'), ('update_time', 'timestamp without time zone'), ('create_time', 'timestamp without time zone'), ('create_user', 'bigint'), ('reference_process_id', 'bigint'), ('parent_id', 'bigint'), ('node_type', 'smallint'), ('extend', 'json'), ('id', 'bigint'), ('version', 'bigint'), ('last_change', 'bigint'), ('category_id', 'bigint'), ('infrastructure_process', 'smallint'), ('quantitative_reference_id', 'bigint'), ('location_id', 'bigint'), ('process_doc_id', 'bigint'), ('dq_system_id', 'bigint'), ('exchange_dq_system_id', 'bigint'), ('social_dq_system_id', 'bigint'), ('last_internal_id', 'integer'), ('currency_id', 'bigint'), ('product_system_id', 'bigint'), ('process_source', 'smallint'), ('node', 'jsonb'), ('ref_id', 'character varying'), ('name', 'character varying'), ('default_allocation_method', 'character varying'), ('synonyms', 'text'), ('dq_entry', 'character varying'), ('tags', 'character varying'), ('library', 'character varying'), ('description', 'text'), ('process_type', 'character varying')]\n"
     ]
    }
   ],
   "source": [
    "col = get_column_types(cur,\"tb_process\")\n",
    "print(col)"
   ],
   "metadata": {
    "collapsed": false,
    "ExecuteTime": {
     "end_time": "2025-02-08T01:15:00.277610200Z",
     "start_time": "2025-02-08T01:15:00.214508100Z"
    }
   }
  },
  {
   "cell_type": "code",
   "execution_count": 13,
   "metadata": {
    "ExecuteTime": {
     "end_time": "2025-02-08T01:15:03.633248600Z",
     "start_time": "2025-02-08T01:15:03.586150300Z"
    }
   },
   "outputs": [],
   "source": [
    "import re\n",
    "\n",
    "def getSql(response):\n",
    "    # Adjust pattern to capture SQL string between #...#\n",
    "    pattern = r\"#(.*?)#\"\n",
    "    sql_list = re.findall(pattern, response, re.DOTALL)  # Use re.DOTALL to allow newline matching\n",
    "    if sql_list:\n",
    "        sql_str = sql_list[-1]\n",
    "        print(\"SQL:\", sql_str)\n",
    "        return sql_str\n",
    "    else:\n",
    "        print(\"No SQL found\")\n",
    "        return None"
   ]
  },
  {
   "cell_type": "code",
   "execution_count": 16,
   "metadata": {
    "ExecuteTime": {
     "end_time": "2025-02-07T06:28:55.014262400Z",
     "start_time": "2025-02-07T06:28:54.933607400Z"
    }
   },
   "outputs": [],
   "source": [
    "# def query_database(text, schema):\n",
    "#     # 将表结构信息包含在提示中\n",
    "#     schema_info = \"\\n\".join([f\"Table {table}: {', '.join(columns)}\" for table, columns in schema.items()])\n",
    "#     # print(schema_info)\n",
    "#     prompt= PromptTemplate(\n",
    "#         input_variables=[\"schema_info\",\"prompt\"],\n",
    "#         template='''以下是数据库的表结构信息：{schema_info},分析表结构信息.\n",
    "#         请根据以下描述生成一个符合SQLite数据库语法的SQL查询，并且不能修改给出的数据表列名。\n",
    "#         描述：{prompt}。\n",
    "#         要求输出的SQL以#开头,以#结尾，参数类型一律按照字符串处理，样例如下：\n",
    "#         #SELECT * FROM table#\n",
    "#         #SELECT COUNT(*) FROM table where Colume_name='abc'#\n",
    "#         注意不要输出分析过程和其他内容，直接给出SQL语句。\n",
    "#         '''\n",
    "#     )\n",
    "#     chain = LLMChain(llm=llm, prompt=prompt)\n",
    "#     print(prompt)\n",
    "#     query = chain.run(\n",
    "#         {\"schema_info\":schema_info,\"prompt\":text}\n",
    "#     )\n",
    "#     print(query)\n",
    "#     sql = getSql(query)\n",
    "#     # result = execute_query(sql)\n",
    "#     return sql"
   ]
  },
  {
   "cell_type": "code",
   "execution_count": 15,
   "outputs": [],
   "source": [
    "def query_database(text, schema):\n",
    "    # 将表结构信息包含在提示中\n",
    "    schema_info = \"\\n\".join([f\"Table {table}: {', '.join(columns)}\" for table, columns in schema.items()])\n",
    "\n",
    "    # 定义 message 模板\n",
    "    # messages = [\n",
    "    #     {\n",
    "    #         \"role\": \"system\",\n",
    "    #         \"content\": \"你是一个 SQL 生成助手，能够根据用户提供的数据库表结构信息和描述生成符合 SQLite 语法的 SQL 查询。\"\n",
    "    #     },\n",
    "    #     {\n",
    "    #         \"role\": \"user\",\n",
    "    #         \"content\": f'''以下是数据库的表结构信息：{schema_info}。\n",
    "    #         请根据以下描述生成一个符合 SQLite 数据库语法的 SQL 查询，并且不能修改给出的数据表列名。\n",
    "    #         描述：{text}。\n",
    "    #         要求输出的 SQL 以 # 开头，以 # 结尾，参数类型一律按照字符串处理，样例如下：\n",
    "    #         #SELECT * FROM table#\n",
    "    #         #SELECT COUNT(*) FROM table where Column_name='abc'#\n",
    "    #         注意不要输出分析过程和其他内容，直接给出 SQL 语句。'''\n",
    "    #     }\n",
    "    # ]\n",
    "    messages = [\n",
    "        {\n",
    "            \"role\": \"system\",\n",
    "            \"content\": \"你是一个 SQL 生成助手，能够根据用户提供的描述生成符合 SQLite 语法的 SQL 查询。\"\n",
    "        },\n",
    "        {\n",
    "            \"role\": \"user\",\n",
    "            \"content\": f'''\n",
    "            请根据以下描述生成一个符合 SQLite 数据库语法的 SQL 查询，并且不能修改给出的数据表列名。\n",
    "            描述：{text}。\n",
    "            要求输出的 SQL 以 # 开头，以 # 结尾，参数类型一律按照字符串处理，样例如下：\n",
    "            #SELECT * FROM table#\n",
    "            #SELECT COUNT(*) FROM table where Column_name='abc'#\n",
    "            注意不要输出分析过程和其他内容，直接给出 SQL 语句。'''\n",
    "        }\n",
    "    ]\n",
    "    # print(messages)\n",
    "\n",
    "    # 调用 LLM 生成 SQL\n",
    "    response = llm.invoke(messages)  \n",
    "    # print(response)\n",
    "    query = response.content  # 提取生成的 SQL\n",
    "    # print(\"生成的 SQL:\", query)\n",
    "\n",
    "    # 提取 SQL 语句\n",
    "    sql = getSql(query)\n",
    "    return sql"
   ],
   "metadata": {
    "collapsed": false,
    "ExecuteTime": {
     "end_time": "2025-02-08T01:23:13.269658Z",
     "start_time": "2025-02-08T01:23:13.152178500Z"
    }
   }
  },
  {
   "cell_type": "code",
   "execution_count": 16,
   "metadata": {
    "ExecuteTime": {
     "end_time": "2025-02-08T01:23:22.939472900Z",
     "start_time": "2025-02-08T01:23:20.070276500Z"
    }
   },
   "outputs": [
    {
     "data": {
      "text/plain": "                                                 SQL  \\\n0  select count( * ) as total from tb_process whe...   \n1  select tags from tb_process where product_syst...   \n2  select id,ref_id,name,synonyms,category_id,pro...   \n3  select id,ref_id,name,synonyms,category_id,des...   \n4  select id,ref_id,name,synonyms,category_id,des...   \n\n                                            Question       table  \n0                          数据库tb_process表中有多少未删除的数据？  tb_process  \n1  在数据库tb_process表中，product_system_id为12983111603...  tb_process  \n2  在数据库tb_process表中，process_type为‘unit_process’且p...  tb_process  \n3  在数据库tb_process表中，id为1300755365750636544的记录的id、...  tb_process  \n4  在数据库tb_process表中，id为9237375的记录的id、ref_id、name、...  tb_process  ",
      "text/html": "<div>\n<style scoped>\n    .dataframe tbody tr th:only-of-type {\n        vertical-align: middle;\n    }\n\n    .dataframe tbody tr th {\n        vertical-align: top;\n    }\n\n    .dataframe thead th {\n        text-align: right;\n    }\n</style>\n<table border=\"1\" class=\"dataframe\">\n  <thead>\n    <tr style=\"text-align: right;\">\n      <th></th>\n      <th>SQL</th>\n      <th>Question</th>\n      <th>table</th>\n    </tr>\n  </thead>\n  <tbody>\n    <tr>\n      <th>0</th>\n      <td>select count( * ) as total from tb_process whe...</td>\n      <td>数据库tb_process表中有多少未删除的数据？</td>\n      <td>tb_process</td>\n    </tr>\n    <tr>\n      <th>1</th>\n      <td>select tags from tb_process where product_syst...</td>\n      <td>在数据库tb_process表中，product_system_id为12983111603...</td>\n      <td>tb_process</td>\n    </tr>\n    <tr>\n      <th>2</th>\n      <td>select id,ref_id,name,synonyms,category_id,pro...</td>\n      <td>在数据库tb_process表中，process_type为‘unit_process’且p...</td>\n      <td>tb_process</td>\n    </tr>\n    <tr>\n      <th>3</th>\n      <td>select id,ref_id,name,synonyms,category_id,des...</td>\n      <td>在数据库tb_process表中，id为1300755365750636544的记录的id、...</td>\n      <td>tb_process</td>\n    </tr>\n    <tr>\n      <th>4</th>\n      <td>select id,ref_id,name,synonyms,category_id,des...</td>\n      <td>在数据库tb_process表中，id为9237375的记录的id、ref_id、name、...</td>\n      <td>tb_process</td>\n    </tr>\n  </tbody>\n</table>\n</div>"
     },
     "execution_count": 16,
     "metadata": {},
     "output_type": "execute_result"
    }
   ],
   "source": [
    "import pandas as pd\n",
    "df = pd.read_excel(r\"./data/sql_ques_clear.xlsx\")\n",
    "df.head()"
   ]
  },
  {
   "cell_type": "code",
   "execution_count": 17,
   "outputs": [
    {
     "name": "stdout",
     "output_type": "stream",
     "text": [
      "{'tb_process': ['share', 'deleted', 'update_time', 'create_time', 'create_user', 'reference_process_id', 'parent_id', 'node_type', 'extend', 'id', 'version', 'last_change', 'category_id', 'infrastructure_process', 'quantitative_reference_id', 'location_id', 'process_doc_id', 'dq_system_id', 'exchange_dq_system_id', 'social_dq_system_id', 'last_internal_id', 'currency_id', 'product_system_id', 'process_source', 'node', 'ref_id', 'name', 'default_allocation_method', 'synonyms', 'dq_entry', 'tags', 'library', 'description', 'process_type']}\n",
      "SQL: SELECT COUNT(*) FROM tb_process WHERE deleted = '0'\n",
      "res: SELECT COUNT(*) FROM tb_process WHERE deleted = '0'\n"
     ]
    }
   ],
   "source": [
    "ques_test = \"数据库tb_process表中有多少未删除的数据？\"\n",
    "tmp_dict = dict()\n",
    "tmp_dict[\"tb_process\"] = schema[\"tb_process\"]\n",
    "print(tmp_dict)\n",
    "res = query_database(ques_test,tmp_dict)\n",
    "print(\"res:\",res)"
   ],
   "metadata": {
    "collapsed": false,
    "ExecuteTime": {
     "end_time": "2025-02-08T01:23:42.727874200Z",
     "start_time": "2025-02-08T01:23:31.724406100Z"
    }
   }
  },
  {
   "cell_type": "code",
   "execution_count": 18,
   "outputs": [
    {
     "name": "stdout",
     "output_type": "stream",
     "text": [
      "SQL: SELECT COUNT(*) FROM tb_process WHERE deleted = '0'\n",
      "SQL: SELECT tags FROM tb_process WHERE product_system_id = '1298311160348545024' AND deleted = '0'\n",
      "SQL: SELECT id, ref_id, name, synonyms, category_id, process_type, default_allocation_method, infrastructure_process, quantitative_reference_id, dq_entry, dq_system_id, exchange_dq_system_id, social_dq_system_id, location_id, process_doc_id, currency_id, version, last_change, tags, library, product_system_id, process_source, reference_process_id, node, parent_id, node_type, deleted, create_time, update_time, create_user, extend, share FROM tb_process WHERE process_type = 'unit_process' AND process_source = '0'\n",
      "SQL: SELECT id, ref_id, name, synonyms, category_id, description, process_type, default_allocation_method, infrastructure_process, quantitative_reference_id, dq_entry, dq_system_id, exchange_dq_system_id, social_dq_system_id, location_id, process_doc_id, currency_id, version, last_change, tags, library, product_system_id, process_source, reference_process_id, node, parent_id, node_type, deleted, create_time, update_time, create_user, extend, share FROM tb_process WHERE id = '1300755365750636544'\n",
      "SQL: SELECT id, ref_id, name, synonyms, category_id, description, process_type, default_allocation_method, infrastructure_process, quantitative_reference_id, dq_entry, dq_system_id, exchange_dq_system_id, social_dq_system_id, location_id, process_doc_id, currency_id, version, last_change, tags, library, product_system_id, process_source, reference_process_id, node, parent_id, node_type, deleted, create_time, update_time, create_user, extend, share FROM tb_process WHERE id = '9237375'\n",
      "SQL: SELECT COUNT(*) FROM tb_process WHERE name='铸铁' AND product_system_id='1300754248748761088' AND id!='1300755365750636544' AND deleted=0\n",
      "SQL: SELECT * FROM tb_process WHERE ref_id='49e7b885-8db7-3d63-8fce-5e32b8a71391' AND process_type='unit_process' LIMIT 1\n",
      "SQL: SELECT location_id FROM tb_process WHERE id='3448019508185273680'\n",
      "SQL: SELECT id, ref_id, name, synonyms, category_id, description, process_type, default_allocation_method, infrastructure_process, quantitative_reference_id, dq_entry, dq_system_id, exchange_dq_system_id, social_dq_system_id, location_id, process_doc_id, currency_id, version, last_change, tags, library, product_system_id, process_source, reference_process_id, node, parent_id, node_type, deleted, create_time, update_time, create_user, extend, share FROM tb_process WHERE product_system_id = '1276473778162892800' AND deleted = '0'\n",
      "SQL: SELECT id, name, node_type, tags, process_type, node FROM tb_process WHERE parent_id = '1250448580720721920' AND deleted = '0'\n",
      "SQL: SELECT id, name, node_type, tags, process_type, node FROM tb_process WHERE parent_id = '1250448580720721920' AND deleted = '0'\n",
      "SQL: SELECT id, ref_id, name, synonyms, category_id, description, process_type, default_allocation_method, infrastructure_process, quantitative_reference_id, dq_entry, dq_system_id, exchange_dq_system_id, social_dq_system_id, location_id, process_doc_id, currency_id, version, last_change, tags, library, product_system_id, process_source, reference_process_id, node, parent_id, node_type, deleted, create_time, update_time, create_user, extend, share FROM tb_process WHERE id IN ('1176899308570542080', '1176898365472899072')\n",
      "Error at index 12: Expecting value: line 1 column 1 (char 0)\n",
      "Error at index 13: Expecting value: line 1 column 1 (char 0)\n",
      "Error at index 14: Expecting value: line 1 column 1 (char 0)\n",
      "Error at index 15: Expecting value: line 1 column 1 (char 0)\n",
      "Error at index 16: Expecting value: line 1 column 1 (char 0)\n",
      "Error at index 17: Expecting value: line 1 column 1 (char 0)\n",
      "Error at index 18: Expecting value: line 1 column 1 (char 0)\n",
      "SQL: SELECT COUNT(*) AS total FROM tb_calculation_task WHERE product_system_id = '1298311160348545024'\n",
      "Error at index 20: Expecting value: line 1 column 1 (char 0)\n",
      "Error at index 21: Expecting value: line 1 column 1 (char 0)\n",
      "SQL: SELECT COUNT(*) AS total FROM tb_product_system WHERE deleted = '0'\n",
      "Error at index 23: Expecting value: line 1 column 1 (char 0)\n",
      "Error at index 24: Expecting value: line 1 column 1 (char 0)\n",
      "Error at index 25: Expecting value: line 1 column 1 (char 0)\n",
      "SQL: SELECT id, product_system_id, form_id, data, extend FROM tb_form_data WHERE product_system_id = '1247208720564224000' AND form_id = '4'\n",
      "Error at index 27: Expecting value: line 1 column 1 (char 0)\n",
      "Error at index 28: Expecting value: line 1 column 1 (char 0)\n",
      "Error at index 29: Expecting value: line 1 column 1 (char 0)\n",
      "SQL: SELECT COUNT(*) FROM (\n",
      "    SELECT * FROM tb_parameter WHERE create_user = '10028' AND scope = 'global'\n",
      "    UNION ALL\n",
      "    SELECT * FROM tb_parameter WHERE process_id = '3448019511314224627' AND create_user = '10028'\n",
      ")\n",
      "Error at index 31: Expecting value: line 1 column 1 (char 0)\n",
      "Error at index 32: Expecting value: line 1 column 1 (char 0)\n",
      "Error at index 33: Expecting value: line 1 column 1 (char 0)\n",
      "SQL: SELECT * FROM tb_process_doc WHERE reviewer_id = '1212'\n",
      "Error at index 35: Expecting value: line 1 column 1 (char 0)\n",
      "Error at index 36: Expecting value: line 1 column 1 (char 0)\n",
      "SQL: SELECT * FROM tb_process_doc WHERE geography = '17 European plants'\n",
      "SQL: SELECT * FROM tb_process_doc WHERE technology LIKE '%Acid-catalysed esterification of free-fatty acids.%'\n",
      "Error at index 39: Expecting value: line 1 column 1 (char 0)\n",
      "Error at index 40: Expecting value: line 1 column 1 (char 0)\n",
      "Error at index 41: Expecting value: line 1 column 1 (char 0)\n",
      "SQL: SELECT dataset_owner_id, COUNT(*) FROM tb_process_doc GROUP BY dataset_owner_id\n",
      "Error at index 43: Expecting value: line 1 column 1 (char 0)\n",
      "SQL: SELECT * FROM tb_process_doc WHERE publication_id = '1500'\n",
      "SQL: SELECT * FROM tb_process_doc WHERE preceding_dataset = '6006a8fc-1a6c-55ee-a49d-fc9342f5d451'\n",
      "Error at index 46: Expecting value: line 1 column 1 (char 0)\n",
      "Error at index 47: Expecting value: line 1 column 1 (char 0)\n",
      "Error at index 48: Expecting value: line 1 column 1 (char 0)\n",
      "Error at index 49: Expecting value: line 1 column 1 (char 0)\n",
      "SQL: SELECT COUNT(*) FROM tb_process WHERE create_user='10000'\n",
      "Error at index 51: Expecting value: line 1 column 1 (char 0)\n",
      "SQL: SELECT location_id, COUNT(*) FROM tb_process GROUP BY location_id\n",
      "Error at index 53: Expecting value: line 1 column 1 (char 0)\n",
      "Error at index 54: Expecting value: line 1 column 1 (char 0)\n",
      "SQL: SELECT * FROM tb_process WHERE default_allocation_method = 'economic allocation'\n",
      "Error at index 56: Expecting value: line 1 column 1 (char 0)\n",
      "SQL: SELECT * FROM tb_process WHERE name LIKE '%AAAAsadfasd%'\n",
      "Error at index 58: Expecting value: line 1 column 1 (char 0)\n",
      "Error at index 59: Expecting value: line 1 column 1 (char 0)\n",
      "SQL: SELECT * FROM tb_process WHERE process_doc_id = '594641'\n",
      "Error at index 61: Expecting value: line 1 column 1 (char 0)\n",
      "Error at index 62: Expecting value: line 1 column 1 (char 0)\n",
      "SQL: SELECT * FROM tb_process WHERE process_source='1'\n",
      "Error at index 64: Expecting value: line 1 column 1 (char 0)\n",
      "Error at index 65: Expecting value: line 1 column 1 (char 0)\n",
      "Failed indices: [12, 13, 14, 15, 16, 17, 18, 20, 21, 23, 24, 25, 27, 28, 29, 31, 32, 33, 35, 36, 39, 40, 41, 43, 46, 47, 48, 49, 51, 53, 54, 56, 58, 59, 61, 62, 64, 65]\n"
     ]
    }
   ],
   "source": [
    "import time\n",
    "\n",
    "# Initialize lists to store results and failed indices\n",
    "sql_gold = []\n",
    "sql_pred = []\n",
    "failed_indices = []\n",
    "\n",
    "for index, item in df.iterrows():\n",
    "    try:\n",
    "        prompt = item['Question']\n",
    "        table = item['table']\n",
    "        gold = item['SQL']\n",
    "        \n",
    "        # Skip if the table is not in table_names\n",
    "        if table not in table_names:\n",
    "            print(f\"Skipping table: {table} at index {index}\")\n",
    "            continue\n",
    "        \n",
    "        # Skip if 'join' is found in the gold SQL\n",
    "        if 'join' in gold:\n",
    "            continue\n",
    "        \n",
    "        # Get column types and query the database\n",
    "        colum_type = get_column_types(cur, table)\n",
    "        tmp = {table: schema[table]}\n",
    "        sql = query_database(prompt, tmp)\n",
    "        \n",
    "        # Append results to the respective lists\n",
    "        sql_pred.append(sql)\n",
    "        sql_gold.append(gold)\n",
    "        \n",
    "        # Sleep for a second to avoid too many requests in a short time\n",
    "        time.sleep(1)\n",
    "\n",
    "    except Exception as e:\n",
    "        # Handle the exception, print the error, and record the index\n",
    "        print(f\"Error at index {index}: {e}\")\n",
    "        failed_indices.append(index)\n",
    "\n",
    "# After the loop, you can inspect the failed indices if needed\n",
    "print(f\"Failed indices: {failed_indices}\")"
   ],
   "metadata": {
    "collapsed": false,
    "ExecuteTime": {
     "end_time": "2025-02-08T02:19:09.137256400Z",
     "start_time": "2025-02-08T01:26:01.501948400Z"
    }
   }
  },
  {
   "cell_type": "code",
   "execution_count": 33,
   "outputs": [
    {
     "data": {
      "text/plain": "28"
     },
     "execution_count": 33,
     "metadata": {},
     "output_type": "execute_result"
    }
   ],
   "source": [
    "len(sql_gold)"
   ],
   "metadata": {
    "collapsed": false,
    "ExecuteTime": {
     "end_time": "2025-02-08T02:52:02.394300800Z",
     "start_time": "2025-02-08T02:52:02.366526300Z"
    }
   }
  },
  {
   "cell_type": "code",
   "execution_count": 20,
   "outputs": [
    {
     "data": {
      "text/plain": "38"
     },
     "execution_count": 20,
     "metadata": {},
     "output_type": "execute_result"
    }
   ],
   "source": [
    "len(failed_indices)"
   ],
   "metadata": {
    "collapsed": false,
    "ExecuteTime": {
     "end_time": "2025-02-08T02:20:55.452846100Z",
     "start_time": "2025-02-08T02:20:55.325446300Z"
    }
   }
  },
  {
   "cell_type": "code",
   "execution_count": 27,
   "outputs": [],
   "source": [
    "results = []\n",
    "id = 0\n",
    "for i in range(0,66):\n",
    "    if i in failed_indices:\n",
    "        results.append(\" \")\n",
    "    else:\n",
    "        results.append(sql_gold[id])\n",
    "        id += 1"
   ],
   "metadata": {
    "collapsed": false,
    "ExecuteTime": {
     "end_time": "2025-02-08T02:28:52.321976100Z",
     "start_time": "2025-02-08T02:28:52.261889700Z"
    }
   }
  },
  {
   "cell_type": "code",
   "execution_count": 28,
   "metadata": {
    "ExecuteTime": {
     "end_time": "2025-02-08T02:28:52.959489700Z",
     "start_time": "2025-02-08T02:28:52.923462500Z"
    }
   },
   "outputs": [],
   "source": [
    "def save_txt(save_list,path):\n",
    "    with open(path,\"w\",encoding=\"utf-8\") as f:\n",
    "        for item in save_list:\n",
    "            f.write(item+\"\\n\")"
   ]
  }
 ],
 "metadata": {
  "kernelspec": {
   "display_name": "Qwen",
   "language": "python",
   "name": "python3"
  },
  "language_info": {
   "codemirror_mode": {
    "name": "ipython",
    "version": 3
   },
   "file_extension": ".py",
   "mimetype": "text/x-python",
   "name": "python",
   "nbconvert_exporter": "python",
   "pygments_lexer": "ipython3",
   "version": "3.10.14"
  }
 },
 "nbformat": 4,
 "nbformat_minor": 2
}
