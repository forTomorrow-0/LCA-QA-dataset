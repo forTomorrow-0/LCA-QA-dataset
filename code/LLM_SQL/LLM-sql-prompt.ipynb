{
 "cells": [
  {
   "cell_type": "code",
   "execution_count": 1,
   "metadata": {
    "ExecuteTime": {
     "end_time": "2025-02-08T02:34:33.972553500Z",
     "start_time": "2025-02-08T02:34:33.912967Z"
    }
   },
   "outputs": [],
   "source": [
    "import os\n",
    "import psycopg2\n",
    "import re"
   ]
  },
  {
   "cell_type": "code",
   "execution_count": 2,
   "metadata": {
    "ExecuteTime": {
     "end_time": "2025-02-08T02:34:34.942404800Z",
     "start_time": "2025-02-08T02:34:34.739548300Z"
    }
   },
   "outputs": [],
   "source": [
    "# 数据库连接参数\n",
    "dbname = \"\"\n",
    "user = \"\"\n",
    "password = \"\"\n",
    "host = \"\"  # 或者是你 Docker 容器的 IP 地址，如果你在不同的机器上\n",
    "port = \"\"\n",
    "\n",
    "# 连接字符串\n",
    "conn_string = f\"host={host} dbname={dbname} user={user} password={password} port={port}\"\n",
    "# 连接到数据库\n",
    "conn = psycopg2.connect(conn_string)\n",
    "cur = conn.cursor()"
   ]
  },
  {
   "cell_type": "code",
   "execution_count": 3,
   "outputs": [],
   "source": [
    "# 获取表名\n",
    "def get_table_name(cur):\n",
    "    # 执行 SQL 查询以获取所有表的列表\n",
    "    cur.execute(\"\"\"\n",
    "        SELECT table_name \n",
    "        FROM information_schema.tables \n",
    "        WHERE table_schema = 'public';\n",
    "    \"\"\")\n",
    "    \n",
    "    # 获取查询结果\n",
    "    tables = cur.fetchall()\n",
    "    tname = []\n",
    "    # 打印表名\n",
    "    for table in tables:\n",
    "        tname.append(table[0])\n",
    "    \n",
    "    return tname"
   ],
   "metadata": {
    "collapsed": false,
    "ExecuteTime": {
     "end_time": "2025-02-08T02:34:35.552978800Z",
     "start_time": "2025-02-08T02:34:35.516161200Z"
    }
   }
  },
  {
   "cell_type": "code",
   "execution_count": 4,
   "metadata": {
    "ExecuteTime": {
     "end_time": "2025-02-08T02:34:36.010250300Z",
     "start_time": "2025-02-08T02:34:35.973543500Z"
    }
   },
   "outputs": [],
   "source": [
    "# 获取数据库列名。\n",
    "def get_table_columns(cur,table_name):\n",
    "    try:\n",
    "        # 执行 SQL 查询以获取表的列名\n",
    "        cur.execute(f\"\"\"\n",
    "            SELECT column_name \n",
    "            FROM information_schema.columns \n",
    "            WHERE table_name = '{table_name}';\n",
    "        \"\"\")\n",
    "        # 获取查询结果\n",
    "        cols = [desc[0] for desc in cur.fetchall()]\n",
    "        columns = []\n",
    "        for col in cols:\n",
    "            # column = \"'\"+col+\"'\"\n",
    "            columns.append(col)\n",
    "    except Exception as e:\n",
    "        print(f\"An error occurred: {e}\")\n",
    "    return columns"
   ]
  },
  {
   "cell_type": "code",
   "execution_count": 5,
   "outputs": [],
   "source": [
    "# 获取数据库表结构，表名对应列名\n",
    "schema = dict()\n",
    "\n",
    "table_names = get_table_name(cur)\n",
    "for name in table_names:\n",
    "    schema[name] = get_table_columns(cur,name)"
   ],
   "metadata": {
    "collapsed": false,
    "ExecuteTime": {
     "end_time": "2025-02-08T02:34:36.992470500Z",
     "start_time": "2025-02-08T02:34:36.405561300Z"
    }
   }
  },
  {
   "cell_type": "code",
   "execution_count": 6,
   "outputs": [],
   "source": [
    "def get_column_types(cur, table_name):\n",
    "    # 执行 SQL 查询以获取表的列名和数据类型\n",
    "    cur.execute(\"\"\"\n",
    "        SELECT column_name, data_type\n",
    "        FROM information_schema.columns\n",
    "        WHERE table_name = %s;\n",
    "    \"\"\", (table_name,))\n",
    "\n",
    "    # 获取查询结果\n",
    "    results = cur.fetchall()\n",
    "    return results"
   ],
   "metadata": {
    "collapsed": false,
    "ExecuteTime": {
     "end_time": "2025-02-08T02:34:37.030067800Z",
     "start_time": "2025-02-08T02:34:36.994601700Z"
    }
   }
  },
  {
   "cell_type": "code",
   "execution_count": 7,
   "outputs": [
    {
     "name": "stdout",
     "output_type": "stream",
     "text": [
      "[('share', 'integer'), ('deleted', 'smallint'), ('update_time', 'timestamp without time zone'), ('create_time', 'timestamp without time zone'), ('create_user', 'bigint'), ('reference_process_id', 'bigint'), ('parent_id', 'bigint'), ('node_type', 'smallint'), ('extend', 'json'), ('id', 'bigint'), ('version', 'bigint'), ('last_change', 'bigint'), ('category_id', 'bigint'), ('infrastructure_process', 'smallint'), ('quantitative_reference_id', 'bigint'), ('location_id', 'bigint'), ('process_doc_id', 'bigint'), ('dq_system_id', 'bigint'), ('exchange_dq_system_id', 'bigint'), ('social_dq_system_id', 'bigint'), ('last_internal_id', 'integer'), ('currency_id', 'bigint'), ('product_system_id', 'bigint'), ('process_source', 'smallint'), ('node', 'jsonb'), ('ref_id', 'character varying'), ('name', 'character varying'), ('default_allocation_method', 'character varying'), ('synonyms', 'text'), ('dq_entry', 'character varying'), ('tags', 'character varying'), ('library', 'character varying'), ('description', 'text'), ('process_type', 'character varying')]\n"
     ]
    }
   ],
   "source": [
    "col = get_column_types(cur,\"tb_process\")\n",
    "print(col)"
   ],
   "metadata": {
    "collapsed": false,
    "ExecuteTime": {
     "end_time": "2025-02-08T02:34:37.641723600Z",
     "start_time": "2025-02-08T02:34:37.593326500Z"
    }
   }
  },
  {
   "cell_type": "code",
   "execution_count": 20,
   "outputs": [],
   "source": [
    "def query_prompt(text, schema):\n",
    "    # 将表结构信息包含在提示中\n",
    "    schema_info = \"\\n\".join([f\"Table {table}: {', '.join(columns)}\" for table, columns in schema.items()])\n",
    "\n",
    "    # 定义 message 模板\n",
    "    messages =  f'''你是一个 SQL 生成助手，能够根据用户提供的描述生成符合 SQLite 语法的 SQL 查询。\n",
    "            请根据以下描述生成一个符合 SQLite 数据库语法的 SQL 查询，并且不能修改给出的数据表列名。\n",
    "            描述：{text}。\n",
    "            要求输出的 SQL 以 # 开头，以 # 结尾，参数类型一律按照字符串处理，样例如下：\n",
    "            #SELECT * FROM table#\n",
    "            #SELECT COUNT(*) FROM table where Column_name='abc'#\n",
    "            注意不要输出分析过程和其他内容，直接给出 SQL 语句。'''\n",
    "\n",
    "    return messages"
   ],
   "metadata": {
    "collapsed": false,
    "ExecuteTime": {
     "end_time": "2025-02-08T02:38:24.714012700Z",
     "start_time": "2025-02-08T02:38:24.660695100Z"
    }
   }
  },
  {
   "cell_type": "code",
   "execution_count": 21,
   "metadata": {
    "ExecuteTime": {
     "end_time": "2025-02-08T02:38:25.083005600Z",
     "start_time": "2025-02-08T02:38:25.041586400Z"
    }
   },
   "outputs": [
    {
     "data": {
      "text/plain": "                                                 SQL  \\\n0  select count( * ) as total from tb_process whe...   \n1  select tags from tb_process where product_syst...   \n2  select id,ref_id,name,synonyms,category_id,pro...   \n3  select id,ref_id,name,synonyms,category_id,des...   \n4  select id,ref_id,name,synonyms,category_id,des...   \n\n                                            Question       table  \n0                          数据库tb_process表中有多少未删除的数据？  tb_process  \n1  在数据库tb_process表中，product_system_id为12983111603...  tb_process  \n2  在数据库tb_process表中，process_type为‘unit_process’且p...  tb_process  \n3  在数据库tb_process表中，id为1300755365750636544的记录的id、...  tb_process  \n4  在数据库tb_process表中，id为9237375的记录的id、ref_id、name、...  tb_process  ",
      "text/html": "<div>\n<style scoped>\n    .dataframe tbody tr th:only-of-type {\n        vertical-align: middle;\n    }\n\n    .dataframe tbody tr th {\n        vertical-align: top;\n    }\n\n    .dataframe thead th {\n        text-align: right;\n    }\n</style>\n<table border=\"1\" class=\"dataframe\">\n  <thead>\n    <tr style=\"text-align: right;\">\n      <th></th>\n      <th>SQL</th>\n      <th>Question</th>\n      <th>table</th>\n    </tr>\n  </thead>\n  <tbody>\n    <tr>\n      <th>0</th>\n      <td>select count( * ) as total from tb_process whe...</td>\n      <td>数据库tb_process表中有多少未删除的数据？</td>\n      <td>tb_process</td>\n    </tr>\n    <tr>\n      <th>1</th>\n      <td>select tags from tb_process where product_syst...</td>\n      <td>在数据库tb_process表中，product_system_id为12983111603...</td>\n      <td>tb_process</td>\n    </tr>\n    <tr>\n      <th>2</th>\n      <td>select id,ref_id,name,synonyms,category_id,pro...</td>\n      <td>在数据库tb_process表中，process_type为‘unit_process’且p...</td>\n      <td>tb_process</td>\n    </tr>\n    <tr>\n      <th>3</th>\n      <td>select id,ref_id,name,synonyms,category_id,des...</td>\n      <td>在数据库tb_process表中，id为1300755365750636544的记录的id、...</td>\n      <td>tb_process</td>\n    </tr>\n    <tr>\n      <th>4</th>\n      <td>select id,ref_id,name,synonyms,category_id,des...</td>\n      <td>在数据库tb_process表中，id为9237375的记录的id、ref_id、name、...</td>\n      <td>tb_process</td>\n    </tr>\n  </tbody>\n</table>\n</div>"
     },
     "execution_count": 21,
     "metadata": {},
     "output_type": "execute_result"
    }
   ],
   "source": [
    "import pandas as pd\n",
    "df = pd.read_excel(r\"./data/sql_ques_clear.xlsx\")\n",
    "df.head()"
   ]
  },
  {
   "cell_type": "code",
   "execution_count": 22,
   "outputs": [
    {
     "name": "stdout",
     "output_type": "stream",
     "text": [
      "res: 你是一个 SQL 生成助手，能够根据用户提供的描述生成符合 SQLite 语法的 SQL 查询。\n",
      "            请根据以下描述生成一个符合 SQLite 数据库语法的 SQL 查询，并且不能修改给出的数据表列名。\n",
      "            描述：数据库tb_process表中有多少未删除的数据？。\n",
      "            要求输出的 SQL 以 # 开头，以 # 结尾，参数类型一律按照字符串处理，样例如下：\n",
      "            #SELECT * FROM table#\n",
      "            #SELECT COUNT(*) FROM table where Column_name='abc'#\n",
      "            注意不要输出分析过程和其他内容，直接给出 SQL 语句。\n"
     ]
    }
   ],
   "source": [
    "ques_test = \"数据库tb_process表中有多少未删除的数据？\"\n",
    "tmp_dict = dict()\n",
    "tmp_dict[\"tb_process\"] = schema[\"tb_process\"]\n",
    "# print(tmp_dict)\n",
    "res = query_prompt(ques_test,tmp_dict)\n",
    "print(\"res:\",res)"
   ],
   "metadata": {
    "collapsed": false,
    "ExecuteTime": {
     "end_time": "2025-02-08T02:38:25.606717900Z",
     "start_time": "2025-02-08T02:38:25.421342500Z"
    }
   }
  },
  {
   "cell_type": "code",
   "execution_count": 29,
   "metadata": {
    "ExecuteTime": {
     "end_time": "2025-02-08T02:38:54.316952300Z",
     "start_time": "2025-02-08T02:38:54.117273800Z"
    }
   },
   "outputs": [],
   "source": [
    "import time\n",
    "sql_gold = []\n",
    "sql_pred = []\n",
    "prompts = {}\n",
    "\n",
    "fail_index = [12, 13, 14, 15, 16, 17, 18, 20, 21, 23, 24, 25, 27, 28, 29, 31, 32, 33, 35, 36, 39, 40, 41, 43, 46, 47, 48, 49, 51, 53, 54, 56, 58, 59, 61, 62, 64, 65]\n",
    "\n",
    "for index,item in df.iterrows():\n",
    "    if index not in fail_index:\n",
    "        continue\n",
    "    ques = item['Question']\n",
    "    table = item['table']\n",
    "    gold = item['SQL']\n",
    "    \n",
    "    if table not in table_names:\n",
    "        print(table)\n",
    "        continue\n",
    "    if 'join' in gold:\n",
    "        continue\n",
    "        \n",
    "    colum_type = get_column_types(cur,table)\n",
    "    tmp = dict()\n",
    "    tmp[table] = schema[table]\n",
    "    prompt = query_prompt(ques,tmp)\n",
    "    prompts[index+1]=prompt\n",
    "    sql_gold.append(gold)"
   ]
  },
  {
   "cell_type": "code",
   "execution_count": 30,
   "outputs": [
    {
     "data": {
      "text/plain": "38"
     },
     "execution_count": 30,
     "metadata": {},
     "output_type": "execute_result"
    }
   ],
   "source": [
    "len(prompts)"
   ],
   "metadata": {
    "collapsed": false,
    "ExecuteTime": {
     "end_time": "2025-02-08T02:38:54.720387100Z",
     "start_time": "2025-02-08T02:38:54.672361400Z"
    }
   }
  },
  {
   "cell_type": "code",
   "execution_count": 31,
   "outputs": [
    {
     "data": {
      "text/plain": "38"
     },
     "execution_count": 31,
     "metadata": {},
     "output_type": "execute_result"
    }
   ],
   "source": [
    "len(sql_gold)"
   ],
   "metadata": {
    "collapsed": false,
    "ExecuteTime": {
     "end_time": "2025-02-08T02:38:55.213121900Z",
     "start_time": "2025-02-08T02:38:55.171700700Z"
    }
   }
  },
  {
   "cell_type": "code",
   "execution_count": 32,
   "metadata": {
    "ExecuteTime": {
     "end_time": "2025-02-08T02:38:55.638824300Z",
     "start_time": "2025-02-08T02:38:55.603778500Z"
    }
   },
   "outputs": [],
   "source": [
    "def save_txt(save_list,path):\n",
    "    with open(path,\"w\",encoding=\"utf-8\") as f:\n",
    "        for item in save_list:\n",
    "            f.write(item+\"\\n\")"
   ]
  },
  {
   "cell_type": "code",
   "execution_count": 33,
   "outputs": [],
   "source": [
    "def save_txts(save_dict,path):\n",
    "    with open(path,\"w\",encoding=\"utf-8\") as f:\n",
    "        for key,value in save_dict.items():\n",
    "            f.write(str(key)+\" \"+value+\"\\n\")"
   ],
   "metadata": {
    "collapsed": false,
    "ExecuteTime": {
     "end_time": "2025-02-08T02:38:58.585211Z",
     "start_time": "2025-02-08T02:38:58.556014800Z"
    }
   }
  },
  {
   "cell_type": "code",
   "execution_count": 34,
   "outputs": [],
   "source": [
    "# save_txt(sql_gold,\"./data/DeepSeek_enhance/gold.txt\")\n",
    "save_txts(prompts,\"./data/DeepSeek/prompts.txt\")"
   ],
   "metadata": {
    "collapsed": false,
    "ExecuteTime": {
     "end_time": "2025-02-08T02:38:59.218818700Z",
     "start_time": "2025-02-08T02:38:59.180235400Z"
    }
   }
  },
  {
   "cell_type": "code",
   "execution_count": null,
   "outputs": [],
   "source": [],
   "metadata": {
    "collapsed": false
   }
  }
 ],
 "metadata": {
  "kernelspec": {
   "display_name": "Qwen",
   "language": "python",
   "name": "python3"
  },
  "language_info": {
   "codemirror_mode": {
    "name": "ipython",
    "version": 3
   },
   "file_extension": ".py",
   "mimetype": "text/x-python",
   "name": "python",
   "nbconvert_exporter": "python",
   "pygments_lexer": "ipython3",
   "version": "3.10.14"
  }
 },
 "nbformat": 4,
 "nbformat_minor": 2
}
